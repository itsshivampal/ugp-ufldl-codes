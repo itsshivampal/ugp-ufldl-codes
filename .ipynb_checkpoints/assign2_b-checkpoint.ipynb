{
 "cells": [
  {
   "cell_type": "code",
   "execution_count": 9,
   "metadata": {},
   "outputs": [],
   "source": [
    "import numpy as np\n",
    "import scipy\n",
    "from scipy.io import loadmat\n",
    "import matplotlib.pyplot as plt"
   ]
  },
  {
   "cell_type": "code",
   "execution_count": null,
   "metadata": {},
   "outputs": [],
   "source": [
    "def sample_images_raw(fname):\n",
    "    image_data = loadmat(fname)['IMAGESr']\n",
    "\n",
    "    patch_size = 12\n",
    "    n_patches = 10000\n",
    "    image_size = image_data.shape[0]\n",
    "    n_images = image_data.shape[2]\n",
    "\n",
    "    patches = np.zeros(shape=(patch_size * patch_size, n_patches))\n",
    "\n",
    "    for i in range(n_patches):\n",
    "        image_id = np.random.randint(0, n_images)\n",
    "        image_x = np.random.randint(0, image_size - patch_size)\n",
    "        image_y = np.random.randint(0, image_size - patch_size)\n",
    "\n",
    "        img = image_data[:, :, image_id]\n",
    "        patch = img[image_x:image_x + patch_size, image_y:image_y + patch_size].reshape(-1)\n",
    "        patches[:, i] = patch\n",
    "\n",
    "    return patches\n",
    "\n",
    "def display_network(A):\n",
    "    opt_normalize = True\n",
    "    opt_graycolor = True\n",
    "\n",
    "    A = A - np.average(A)\n",
    "\n",
    "    (row, col) = A.shape\n",
    "    sz = int(np.ceil(np.sqrt(row)))\n",
    "    buf = 1\n",
    "    n = np.ceil(np.sqrt(col))\n",
    "    m = np.ceil(col / n)\n",
    "    \n",
    "    img_shape1 = int(buf + m * (sz + buf))\n",
    "    img_shape2 = int(buf + n * (sz + buf))\n",
    "    image = np.ones(shape=(img_shape1, img_shape2))\n",
    "\n",
    "    if not opt_graycolor:\n",
    "        image *= 0.1\n",
    "\n",
    "    k = 0\n",
    "    for i in range(int(m)):\n",
    "        for j in range(int(n)):\n",
    "            if k >= col:\n",
    "                continue\n",
    "            clim = np.max(np.abs(A[:, k]))\n",
    "            if opt_normalize:\n",
    "                image[buf + i * (sz + buf):buf + i * (sz + buf) + sz, buf + j * (sz + buf):buf + j * (sz + buf) + sz] = \\\n",
    "                    A[:, k].reshape(sz, sz) / clim\n",
    "            else:\n",
    "                image[buf + i * (sz + buf):buf + i * (sz + buf) + sz, buf + j * (sz + buf):buf + j * (sz + buf) + sz] = \\\n",
    "                    A[:, k].reshape(sz, sz) / np.max(np.abs(A))\n",
    "            k += 1\n",
    "    return image\n",
    "\n",
    "\n",
    "def get_optimal_k(threshold, s):\n",
    "    k = 0\n",
    "    total_sum = np.sum(s)\n",
    "    sum_ev = 0.0\n",
    "    for i in range(s.size):\n",
    "        sum_ev += s[i]     \n",
    "        ratio = sum_ev / total_sum\n",
    "        if ratio > threshold: break\n",
    "        k += 1\n",
    "    return k   "
   ]
  },
  {
   "cell_type": "code",
   "execution_count": null,
   "metadata": {},
   "outputs": [],
   "source": [
    "x = sample_images_raw('IMAGES_RAW.mat')\n",
    "\n",
    "n, m = x.shape\n",
    "random_sel = np.random.randint(0, m, 200)\n",
    "image_x = display_network(x[:, random_sel])\n",
    "\n",
    "fig = plt.figure()\n",
    "plt.imshow(image_x, cmap=plt.cm.gray)\n",
    "plt.title('Raw patch images')"
   ]
  },
  {
   "cell_type": "code",
   "execution_count": null,
   "metadata": {},
   "outputs": [],
   "source": []
  }
 ],
 "metadata": {
  "kernelspec": {
   "display_name": "Python 2",
   "language": "python",
   "name": "python2"
  },
  "language_info": {
   "codemirror_mode": {
    "name": "ipython",
    "version": 2
   },
   "file_extension": ".py",
   "mimetype": "text/x-python",
   "name": "python",
   "nbconvert_exporter": "python",
   "pygments_lexer": "ipython2",
   "version": "2.7.15"
  }
 },
 "nbformat": 4,
 "nbformat_minor": 2
}
